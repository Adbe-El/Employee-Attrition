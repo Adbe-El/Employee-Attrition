{
  "nbformat": 4,
  "nbformat_minor": 0,
  "metadata": {
    "kernelspec": {
      "display_name": "Python 3",
      "language": "python",
      "name": "python3"
    },
    "language_info": {
      "codemirror_mode": {
        "name": "ipython",
        "version": 3
      },
      "file_extension": ".py",
      "mimetype": "text/x-python",
      "name": "python",
      "nbconvert_exporter": "python",
      "pygments_lexer": "ipython3",
      "version": "3.7.1"
    },
    "colab": {
      "name": "Predicting Employee Attrition Using ML.ipynb",
      "provenance": [],
      "collapsed_sections": [],
      "toc_visible": true
    }
  },
  "cells": [
    {
      "cell_type": "markdown",
      "metadata": {
        "id": "FEKKu4lC4KZn"
      },
      "source": [
        "# Predicting Employee Attrition Using Machine Learning & Python"
      ]
    },
    {
      "cell_type": "code",
      "metadata": {
        "id": "pFbvhWOo4KaQ"
      },
      "source": [
        "import numpy as np\n",
        "import pandas as pd\n",
        "import seaborn as sns"
      ],
      "execution_count": 1,
      "outputs": []
    },
    {
      "cell_type": "code",
      "metadata": {
        "id": "7mLLY9kg4KaY"
      },
      "source": [
        "df = pd.read_csv('WA_Fn-UseC_-HR-Employee-Attrition.csv')"
      ],
      "execution_count": 2,
      "outputs": []
    },
    {
      "cell_type": "code",
      "metadata": {
        "colab": {
          "base_uri": "https://localhost:8080/",
          "height": 313
        },
        "id": "8-RPreOq4Kad",
        "outputId": "39609521-c022-454a-aa7c-24e6de8e704e"
      },
      "source": [
        "df.head()"
      ],
      "execution_count": 3,
      "outputs": [
        {
          "output_type": "execute_result",
          "data": {
            "text/html": [
              "<div>\n",
              "<style scoped>\n",
              "    .dataframe tbody tr th:only-of-type {\n",
              "        vertical-align: middle;\n",
              "    }\n",
              "\n",
              "    .dataframe tbody tr th {\n",
              "        vertical-align: top;\n",
              "    }\n",
              "\n",
              "    .dataframe thead th {\n",
              "        text-align: right;\n",
              "    }\n",
              "</style>\n",
              "<table border=\"1\" class=\"dataframe\">\n",
              "  <thead>\n",
              "    <tr style=\"text-align: right;\">\n",
              "      <th></th>\n",
              "      <th>Age</th>\n",
              "      <th>Attrition</th>\n",
              "      <th>BusinessTravel</th>\n",
              "      <th>DailyRate</th>\n",
              "      <th>Department</th>\n",
              "      <th>DistanceFromHome</th>\n",
              "      <th>Education</th>\n",
              "      <th>EducationField</th>\n",
              "      <th>EmployeeCount</th>\n",
              "      <th>EmployeeNumber</th>\n",
              "      <th>EnvironmentSatisfaction</th>\n",
              "      <th>Gender</th>\n",
              "      <th>HourlyRate</th>\n",
              "      <th>JobInvolvement</th>\n",
              "      <th>JobLevel</th>\n",
              "      <th>JobRole</th>\n",
              "      <th>JobSatisfaction</th>\n",
              "      <th>MaritalStatus</th>\n",
              "      <th>MonthlyIncome</th>\n",
              "      <th>MonthlyRate</th>\n",
              "      <th>NumCompaniesWorked</th>\n",
              "      <th>Over18</th>\n",
              "      <th>OverTime</th>\n",
              "      <th>PercentSalaryHike</th>\n",
              "      <th>PerformanceRating</th>\n",
              "      <th>RelationshipSatisfaction</th>\n",
              "      <th>StandardHours</th>\n",
              "      <th>StockOptionLevel</th>\n",
              "      <th>TotalWorkingYears</th>\n",
              "      <th>TrainingTimesLastYear</th>\n",
              "      <th>WorkLifeBalance</th>\n",
              "      <th>YearsAtCompany</th>\n",
              "      <th>YearsInCurrentRole</th>\n",
              "      <th>YearsSinceLastPromotion</th>\n",
              "      <th>YearsWithCurrManager</th>\n",
              "    </tr>\n",
              "  </thead>\n",
              "  <tbody>\n",
              "    <tr>\n",
              "      <th>0</th>\n",
              "      <td>41</td>\n",
              "      <td>Yes</td>\n",
              "      <td>Travel_Rarely</td>\n",
              "      <td>1102</td>\n",
              "      <td>Sales</td>\n",
              "      <td>1</td>\n",
              "      <td>2</td>\n",
              "      <td>Life Sciences</td>\n",
              "      <td>1</td>\n",
              "      <td>1</td>\n",
              "      <td>2</td>\n",
              "      <td>Female</td>\n",
              "      <td>94</td>\n",
              "      <td>3</td>\n",
              "      <td>2</td>\n",
              "      <td>Sales Executive</td>\n",
              "      <td>4</td>\n",
              "      <td>Single</td>\n",
              "      <td>5993</td>\n",
              "      <td>19479</td>\n",
              "      <td>8</td>\n",
              "      <td>Y</td>\n",
              "      <td>Yes</td>\n",
              "      <td>11</td>\n",
              "      <td>3</td>\n",
              "      <td>1</td>\n",
              "      <td>80</td>\n",
              "      <td>0</td>\n",
              "      <td>8</td>\n",
              "      <td>0</td>\n",
              "      <td>1</td>\n",
              "      <td>6</td>\n",
              "      <td>4</td>\n",
              "      <td>0</td>\n",
              "      <td>5</td>\n",
              "    </tr>\n",
              "    <tr>\n",
              "      <th>1</th>\n",
              "      <td>49</td>\n",
              "      <td>No</td>\n",
              "      <td>Travel_Frequently</td>\n",
              "      <td>279</td>\n",
              "      <td>Research &amp; Development</td>\n",
              "      <td>8</td>\n",
              "      <td>1</td>\n",
              "      <td>Life Sciences</td>\n",
              "      <td>1</td>\n",
              "      <td>2</td>\n",
              "      <td>3</td>\n",
              "      <td>Male</td>\n",
              "      <td>61</td>\n",
              "      <td>2</td>\n",
              "      <td>2</td>\n",
              "      <td>Research Scientist</td>\n",
              "      <td>2</td>\n",
              "      <td>Married</td>\n",
              "      <td>5130</td>\n",
              "      <td>24907</td>\n",
              "      <td>1</td>\n",
              "      <td>Y</td>\n",
              "      <td>No</td>\n",
              "      <td>23</td>\n",
              "      <td>4</td>\n",
              "      <td>4</td>\n",
              "      <td>80</td>\n",
              "      <td>1</td>\n",
              "      <td>10</td>\n",
              "      <td>3</td>\n",
              "      <td>3</td>\n",
              "      <td>10</td>\n",
              "      <td>7</td>\n",
              "      <td>1</td>\n",
              "      <td>7</td>\n",
              "    </tr>\n",
              "    <tr>\n",
              "      <th>2</th>\n",
              "      <td>37</td>\n",
              "      <td>Yes</td>\n",
              "      <td>Travel_Rarely</td>\n",
              "      <td>1373</td>\n",
              "      <td>Research &amp; Development</td>\n",
              "      <td>2</td>\n",
              "      <td>2</td>\n",
              "      <td>Other</td>\n",
              "      <td>1</td>\n",
              "      <td>4</td>\n",
              "      <td>4</td>\n",
              "      <td>Male</td>\n",
              "      <td>92</td>\n",
              "      <td>2</td>\n",
              "      <td>1</td>\n",
              "      <td>Laboratory Technician</td>\n",
              "      <td>3</td>\n",
              "      <td>Single</td>\n",
              "      <td>2090</td>\n",
              "      <td>2396</td>\n",
              "      <td>6</td>\n",
              "      <td>Y</td>\n",
              "      <td>Yes</td>\n",
              "      <td>15</td>\n",
              "      <td>3</td>\n",
              "      <td>2</td>\n",
              "      <td>80</td>\n",
              "      <td>0</td>\n",
              "      <td>7</td>\n",
              "      <td>3</td>\n",
              "      <td>3</td>\n",
              "      <td>0</td>\n",
              "      <td>0</td>\n",
              "      <td>0</td>\n",
              "      <td>0</td>\n",
              "    </tr>\n",
              "    <tr>\n",
              "      <th>3</th>\n",
              "      <td>33</td>\n",
              "      <td>No</td>\n",
              "      <td>Travel_Frequently</td>\n",
              "      <td>1392</td>\n",
              "      <td>Research &amp; Development</td>\n",
              "      <td>3</td>\n",
              "      <td>4</td>\n",
              "      <td>Life Sciences</td>\n",
              "      <td>1</td>\n",
              "      <td>5</td>\n",
              "      <td>4</td>\n",
              "      <td>Female</td>\n",
              "      <td>56</td>\n",
              "      <td>3</td>\n",
              "      <td>1</td>\n",
              "      <td>Research Scientist</td>\n",
              "      <td>3</td>\n",
              "      <td>Married</td>\n",
              "      <td>2909</td>\n",
              "      <td>23159</td>\n",
              "      <td>1</td>\n",
              "      <td>Y</td>\n",
              "      <td>Yes</td>\n",
              "      <td>11</td>\n",
              "      <td>3</td>\n",
              "      <td>3</td>\n",
              "      <td>80</td>\n",
              "      <td>0</td>\n",
              "      <td>8</td>\n",
              "      <td>3</td>\n",
              "      <td>3</td>\n",
              "      <td>8</td>\n",
              "      <td>7</td>\n",
              "      <td>3</td>\n",
              "      <td>0</td>\n",
              "    </tr>\n",
              "    <tr>\n",
              "      <th>4</th>\n",
              "      <td>27</td>\n",
              "      <td>No</td>\n",
              "      <td>Travel_Rarely</td>\n",
              "      <td>591</td>\n",
              "      <td>Research &amp; Development</td>\n",
              "      <td>2</td>\n",
              "      <td>1</td>\n",
              "      <td>Medical</td>\n",
              "      <td>1</td>\n",
              "      <td>7</td>\n",
              "      <td>1</td>\n",
              "      <td>Male</td>\n",
              "      <td>40</td>\n",
              "      <td>3</td>\n",
              "      <td>1</td>\n",
              "      <td>Laboratory Technician</td>\n",
              "      <td>2</td>\n",
              "      <td>Married</td>\n",
              "      <td>3468</td>\n",
              "      <td>16632</td>\n",
              "      <td>9</td>\n",
              "      <td>Y</td>\n",
              "      <td>No</td>\n",
              "      <td>12</td>\n",
              "      <td>3</td>\n",
              "      <td>4</td>\n",
              "      <td>80</td>\n",
              "      <td>1</td>\n",
              "      <td>6</td>\n",
              "      <td>3</td>\n",
              "      <td>3</td>\n",
              "      <td>2</td>\n",
              "      <td>2</td>\n",
              "      <td>2</td>\n",
              "      <td>2</td>\n",
              "    </tr>\n",
              "  </tbody>\n",
              "</table>\n",
              "</div>"
            ],
            "text/plain": [
              "   Age Attrition  ... YearsSinceLastPromotion  YearsWithCurrManager\n",
              "0   41       Yes  ...                       0                     5\n",
              "1   49        No  ...                       1                     7\n",
              "2   37       Yes  ...                       0                     0\n",
              "3   33        No  ...                       3                     0\n",
              "4   27        No  ...                       2                     2\n",
              "\n",
              "[5 rows x 35 columns]"
            ]
          },
          "metadata": {
            "tags": []
          },
          "execution_count": 3
        }
      ]
    },
    {
      "cell_type": "code",
      "metadata": {
        "colab": {
          "base_uri": "https://localhost:8080/"
        },
        "id": "adCrpNyX4Kao",
        "outputId": "6cafab33-e2b9-4abb-d259-e2cc72f45e6b"
      },
      "source": [
        "# Get the number of rows and cols\n",
        "df.shape"
      ],
      "execution_count": 4,
      "outputs": [
        {
          "output_type": "execute_result",
          "data": {
            "text/plain": [
              "(1470, 35)"
            ]
          },
          "metadata": {
            "tags": []
          },
          "execution_count": 4
        }
      ]
    },
    {
      "cell_type": "code",
      "metadata": {
        "colab": {
          "base_uri": "https://localhost:8080/"
        },
        "id": "EHVqg5xK4Kax",
        "outputId": "1049c8db-12e7-4108-de61-d61ffb098da6"
      },
      "source": [
        "#Get the col data type\n",
        "df.info()"
      ],
      "execution_count": 5,
      "outputs": [
        {
          "output_type": "stream",
          "text": [
            "<class 'pandas.core.frame.DataFrame'>\n",
            "RangeIndex: 1470 entries, 0 to 1469\n",
            "Data columns (total 35 columns):\n",
            " #   Column                    Non-Null Count  Dtype \n",
            "---  ------                    --------------  ----- \n",
            " 0   Age                       1470 non-null   int64 \n",
            " 1   Attrition                 1470 non-null   object\n",
            " 2   BusinessTravel            1470 non-null   object\n",
            " 3   DailyRate                 1470 non-null   int64 \n",
            " 4   Department                1470 non-null   object\n",
            " 5   DistanceFromHome          1470 non-null   int64 \n",
            " 6   Education                 1470 non-null   int64 \n",
            " 7   EducationField            1470 non-null   object\n",
            " 8   EmployeeCount             1470 non-null   int64 \n",
            " 9   EmployeeNumber            1470 non-null   int64 \n",
            " 10  EnvironmentSatisfaction   1470 non-null   int64 \n",
            " 11  Gender                    1470 non-null   object\n",
            " 12  HourlyRate                1470 non-null   int64 \n",
            " 13  JobInvolvement            1470 non-null   int64 \n",
            " 14  JobLevel                  1470 non-null   int64 \n",
            " 15  JobRole                   1470 non-null   object\n",
            " 16  JobSatisfaction           1470 non-null   int64 \n",
            " 17  MaritalStatus             1470 non-null   object\n",
            " 18  MonthlyIncome             1470 non-null   int64 \n",
            " 19  MonthlyRate               1470 non-null   int64 \n",
            " 20  NumCompaniesWorked        1470 non-null   int64 \n",
            " 21  Over18                    1470 non-null   object\n",
            " 22  OverTime                  1470 non-null   object\n",
            " 23  PercentSalaryHike         1470 non-null   int64 \n",
            " 24  PerformanceRating         1470 non-null   int64 \n",
            " 25  RelationshipSatisfaction  1470 non-null   int64 \n",
            " 26  StandardHours             1470 non-null   int64 \n",
            " 27  StockOptionLevel          1470 non-null   int64 \n",
            " 28  TotalWorkingYears         1470 non-null   int64 \n",
            " 29  TrainingTimesLastYear     1470 non-null   int64 \n",
            " 30  WorkLifeBalance           1470 non-null   int64 \n",
            " 31  YearsAtCompany            1470 non-null   int64 \n",
            " 32  YearsInCurrentRole        1470 non-null   int64 \n",
            " 33  YearsSinceLastPromotion   1470 non-null   int64 \n",
            " 34  YearsWithCurrManager      1470 non-null   int64 \n",
            "dtypes: int64(26), object(9)\n",
            "memory usage: 402.1+ KB\n"
          ],
          "name": "stdout"
        }
      ]
    },
    {
      "cell_type": "code",
      "metadata": {
        "colab": {
          "base_uri": "https://localhost:8080/"
        },
        "id": "c-GsR_Wd4Ka7",
        "outputId": "ed40013a-3105-4c66-9d5b-79ce79b87ccd"
      },
      "source": [
        "#Get a count for the empty column\n",
        "\n",
        "df.isnull().sum()"
      ],
      "execution_count": 6,
      "outputs": [
        {
          "output_type": "execute_result",
          "data": {
            "text/plain": [
              "Age                         0\n",
              "Attrition                   0\n",
              "BusinessTravel              0\n",
              "DailyRate                   0\n",
              "Department                  0\n",
              "DistanceFromHome            0\n",
              "Education                   0\n",
              "EducationField              0\n",
              "EmployeeCount               0\n",
              "EmployeeNumber              0\n",
              "EnvironmentSatisfaction     0\n",
              "Gender                      0\n",
              "HourlyRate                  0\n",
              "JobInvolvement              0\n",
              "JobLevel                    0\n",
              "JobRole                     0\n",
              "JobSatisfaction             0\n",
              "MaritalStatus               0\n",
              "MonthlyIncome               0\n",
              "MonthlyRate                 0\n",
              "NumCompaniesWorked          0\n",
              "Over18                      0\n",
              "OverTime                    0\n",
              "PercentSalaryHike           0\n",
              "PerformanceRating           0\n",
              "RelationshipSatisfaction    0\n",
              "StandardHours               0\n",
              "StockOptionLevel            0\n",
              "TotalWorkingYears           0\n",
              "TrainingTimesLastYear       0\n",
              "WorkLifeBalance             0\n",
              "YearsAtCompany              0\n",
              "YearsInCurrentRole          0\n",
              "YearsSinceLastPromotion     0\n",
              "YearsWithCurrManager        0\n",
              "dtype: int64"
            ]
          },
          "metadata": {
            "tags": []
          },
          "execution_count": 6
        }
      ]
    },
    {
      "cell_type": "code",
      "metadata": {
        "colab": {
          "base_uri": "https://localhost:8080/"
        },
        "id": "A6PtQIKO4KbC",
        "outputId": "9ab4db5a-771f-442a-8525-9a9a6c65c60f"
      },
      "source": [
        "#Check for any missing / null values in the data\n",
        "df.isnull().values.any()"
      ],
      "execution_count": 7,
      "outputs": [
        {
          "output_type": "execute_result",
          "data": {
            "text/plain": [
              "False"
            ]
          },
          "metadata": {
            "tags": []
          },
          "execution_count": 7
        }
      ]
    },
    {
      "cell_type": "code",
      "metadata": {
        "colab": {
          "base_uri": "https://localhost:8080/",
          "height": 320
        },
        "id": "dMa6nYdg4KbG",
        "outputId": "c38688f7-adce-47ad-a1eb-5bebe5a39f49"
      },
      "source": [
        "#View some statistics\n",
        "df.describe()"
      ],
      "execution_count": 8,
      "outputs": [
        {
          "output_type": "execute_result",
          "data": {
            "text/html": [
              "<div>\n",
              "<style scoped>\n",
              "    .dataframe tbody tr th:only-of-type {\n",
              "        vertical-align: middle;\n",
              "    }\n",
              "\n",
              "    .dataframe tbody tr th {\n",
              "        vertical-align: top;\n",
              "    }\n",
              "\n",
              "    .dataframe thead th {\n",
              "        text-align: right;\n",
              "    }\n",
              "</style>\n",
              "<table border=\"1\" class=\"dataframe\">\n",
              "  <thead>\n",
              "    <tr style=\"text-align: right;\">\n",
              "      <th></th>\n",
              "      <th>Age</th>\n",
              "      <th>DailyRate</th>\n",
              "      <th>DistanceFromHome</th>\n",
              "      <th>Education</th>\n",
              "      <th>EmployeeCount</th>\n",
              "      <th>EmployeeNumber</th>\n",
              "      <th>EnvironmentSatisfaction</th>\n",
              "      <th>HourlyRate</th>\n",
              "      <th>JobInvolvement</th>\n",
              "      <th>JobLevel</th>\n",
              "      <th>JobSatisfaction</th>\n",
              "      <th>MonthlyIncome</th>\n",
              "      <th>MonthlyRate</th>\n",
              "      <th>NumCompaniesWorked</th>\n",
              "      <th>PercentSalaryHike</th>\n",
              "      <th>PerformanceRating</th>\n",
              "      <th>RelationshipSatisfaction</th>\n",
              "      <th>StandardHours</th>\n",
              "      <th>StockOptionLevel</th>\n",
              "      <th>TotalWorkingYears</th>\n",
              "      <th>TrainingTimesLastYear</th>\n",
              "      <th>WorkLifeBalance</th>\n",
              "      <th>YearsAtCompany</th>\n",
              "      <th>YearsInCurrentRole</th>\n",
              "      <th>YearsSinceLastPromotion</th>\n",
              "      <th>YearsWithCurrManager</th>\n",
              "    </tr>\n",
              "  </thead>\n",
              "  <tbody>\n",
              "    <tr>\n",
              "      <th>count</th>\n",
              "      <td>1470.000000</td>\n",
              "      <td>1470.000000</td>\n",
              "      <td>1470.000000</td>\n",
              "      <td>1470.000000</td>\n",
              "      <td>1470.0</td>\n",
              "      <td>1470.000000</td>\n",
              "      <td>1470.000000</td>\n",
              "      <td>1470.000000</td>\n",
              "      <td>1470.000000</td>\n",
              "      <td>1470.000000</td>\n",
              "      <td>1470.000000</td>\n",
              "      <td>1470.000000</td>\n",
              "      <td>1470.000000</td>\n",
              "      <td>1470.000000</td>\n",
              "      <td>1470.000000</td>\n",
              "      <td>1470.000000</td>\n",
              "      <td>1470.000000</td>\n",
              "      <td>1470.0</td>\n",
              "      <td>1470.000000</td>\n",
              "      <td>1470.000000</td>\n",
              "      <td>1470.000000</td>\n",
              "      <td>1470.000000</td>\n",
              "      <td>1470.000000</td>\n",
              "      <td>1470.000000</td>\n",
              "      <td>1470.000000</td>\n",
              "      <td>1470.000000</td>\n",
              "    </tr>\n",
              "    <tr>\n",
              "      <th>mean</th>\n",
              "      <td>36.923810</td>\n",
              "      <td>802.485714</td>\n",
              "      <td>9.192517</td>\n",
              "      <td>2.912925</td>\n",
              "      <td>1.0</td>\n",
              "      <td>1024.865306</td>\n",
              "      <td>2.721769</td>\n",
              "      <td>65.891156</td>\n",
              "      <td>2.729932</td>\n",
              "      <td>2.063946</td>\n",
              "      <td>2.728571</td>\n",
              "      <td>6502.931293</td>\n",
              "      <td>14313.103401</td>\n",
              "      <td>2.693197</td>\n",
              "      <td>15.209524</td>\n",
              "      <td>3.153741</td>\n",
              "      <td>2.712245</td>\n",
              "      <td>80.0</td>\n",
              "      <td>0.793878</td>\n",
              "      <td>11.279592</td>\n",
              "      <td>2.799320</td>\n",
              "      <td>2.761224</td>\n",
              "      <td>7.008163</td>\n",
              "      <td>4.229252</td>\n",
              "      <td>2.187755</td>\n",
              "      <td>4.123129</td>\n",
              "    </tr>\n",
              "    <tr>\n",
              "      <th>std</th>\n",
              "      <td>9.135373</td>\n",
              "      <td>403.509100</td>\n",
              "      <td>8.106864</td>\n",
              "      <td>1.024165</td>\n",
              "      <td>0.0</td>\n",
              "      <td>602.024335</td>\n",
              "      <td>1.093082</td>\n",
              "      <td>20.329428</td>\n",
              "      <td>0.711561</td>\n",
              "      <td>1.106940</td>\n",
              "      <td>1.102846</td>\n",
              "      <td>4707.956783</td>\n",
              "      <td>7117.786044</td>\n",
              "      <td>2.498009</td>\n",
              "      <td>3.659938</td>\n",
              "      <td>0.360824</td>\n",
              "      <td>1.081209</td>\n",
              "      <td>0.0</td>\n",
              "      <td>0.852077</td>\n",
              "      <td>7.780782</td>\n",
              "      <td>1.289271</td>\n",
              "      <td>0.706476</td>\n",
              "      <td>6.126525</td>\n",
              "      <td>3.623137</td>\n",
              "      <td>3.222430</td>\n",
              "      <td>3.568136</td>\n",
              "    </tr>\n",
              "    <tr>\n",
              "      <th>min</th>\n",
              "      <td>18.000000</td>\n",
              "      <td>102.000000</td>\n",
              "      <td>1.000000</td>\n",
              "      <td>1.000000</td>\n",
              "      <td>1.0</td>\n",
              "      <td>1.000000</td>\n",
              "      <td>1.000000</td>\n",
              "      <td>30.000000</td>\n",
              "      <td>1.000000</td>\n",
              "      <td>1.000000</td>\n",
              "      <td>1.000000</td>\n",
              "      <td>1009.000000</td>\n",
              "      <td>2094.000000</td>\n",
              "      <td>0.000000</td>\n",
              "      <td>11.000000</td>\n",
              "      <td>3.000000</td>\n",
              "      <td>1.000000</td>\n",
              "      <td>80.0</td>\n",
              "      <td>0.000000</td>\n",
              "      <td>0.000000</td>\n",
              "      <td>0.000000</td>\n",
              "      <td>1.000000</td>\n",
              "      <td>0.000000</td>\n",
              "      <td>0.000000</td>\n",
              "      <td>0.000000</td>\n",
              "      <td>0.000000</td>\n",
              "    </tr>\n",
              "    <tr>\n",
              "      <th>25%</th>\n",
              "      <td>30.000000</td>\n",
              "      <td>465.000000</td>\n",
              "      <td>2.000000</td>\n",
              "      <td>2.000000</td>\n",
              "      <td>1.0</td>\n",
              "      <td>491.250000</td>\n",
              "      <td>2.000000</td>\n",
              "      <td>48.000000</td>\n",
              "      <td>2.000000</td>\n",
              "      <td>1.000000</td>\n",
              "      <td>2.000000</td>\n",
              "      <td>2911.000000</td>\n",
              "      <td>8047.000000</td>\n",
              "      <td>1.000000</td>\n",
              "      <td>12.000000</td>\n",
              "      <td>3.000000</td>\n",
              "      <td>2.000000</td>\n",
              "      <td>80.0</td>\n",
              "      <td>0.000000</td>\n",
              "      <td>6.000000</td>\n",
              "      <td>2.000000</td>\n",
              "      <td>2.000000</td>\n",
              "      <td>3.000000</td>\n",
              "      <td>2.000000</td>\n",
              "      <td>0.000000</td>\n",
              "      <td>2.000000</td>\n",
              "    </tr>\n",
              "    <tr>\n",
              "      <th>50%</th>\n",
              "      <td>36.000000</td>\n",
              "      <td>802.000000</td>\n",
              "      <td>7.000000</td>\n",
              "      <td>3.000000</td>\n",
              "      <td>1.0</td>\n",
              "      <td>1020.500000</td>\n",
              "      <td>3.000000</td>\n",
              "      <td>66.000000</td>\n",
              "      <td>3.000000</td>\n",
              "      <td>2.000000</td>\n",
              "      <td>3.000000</td>\n",
              "      <td>4919.000000</td>\n",
              "      <td>14235.500000</td>\n",
              "      <td>2.000000</td>\n",
              "      <td>14.000000</td>\n",
              "      <td>3.000000</td>\n",
              "      <td>3.000000</td>\n",
              "      <td>80.0</td>\n",
              "      <td>1.000000</td>\n",
              "      <td>10.000000</td>\n",
              "      <td>3.000000</td>\n",
              "      <td>3.000000</td>\n",
              "      <td>5.000000</td>\n",
              "      <td>3.000000</td>\n",
              "      <td>1.000000</td>\n",
              "      <td>3.000000</td>\n",
              "    </tr>\n",
              "    <tr>\n",
              "      <th>75%</th>\n",
              "      <td>43.000000</td>\n",
              "      <td>1157.000000</td>\n",
              "      <td>14.000000</td>\n",
              "      <td>4.000000</td>\n",
              "      <td>1.0</td>\n",
              "      <td>1555.750000</td>\n",
              "      <td>4.000000</td>\n",
              "      <td>83.750000</td>\n",
              "      <td>3.000000</td>\n",
              "      <td>3.000000</td>\n",
              "      <td>4.000000</td>\n",
              "      <td>8379.000000</td>\n",
              "      <td>20461.500000</td>\n",
              "      <td>4.000000</td>\n",
              "      <td>18.000000</td>\n",
              "      <td>3.000000</td>\n",
              "      <td>4.000000</td>\n",
              "      <td>80.0</td>\n",
              "      <td>1.000000</td>\n",
              "      <td>15.000000</td>\n",
              "      <td>3.000000</td>\n",
              "      <td>3.000000</td>\n",
              "      <td>9.000000</td>\n",
              "      <td>7.000000</td>\n",
              "      <td>3.000000</td>\n",
              "      <td>7.000000</td>\n",
              "    </tr>\n",
              "    <tr>\n",
              "      <th>max</th>\n",
              "      <td>60.000000</td>\n",
              "      <td>1499.000000</td>\n",
              "      <td>29.000000</td>\n",
              "      <td>5.000000</td>\n",
              "      <td>1.0</td>\n",
              "      <td>2068.000000</td>\n",
              "      <td>4.000000</td>\n",
              "      <td>100.000000</td>\n",
              "      <td>4.000000</td>\n",
              "      <td>5.000000</td>\n",
              "      <td>4.000000</td>\n",
              "      <td>19999.000000</td>\n",
              "      <td>26999.000000</td>\n",
              "      <td>9.000000</td>\n",
              "      <td>25.000000</td>\n",
              "      <td>4.000000</td>\n",
              "      <td>4.000000</td>\n",
              "      <td>80.0</td>\n",
              "      <td>3.000000</td>\n",
              "      <td>40.000000</td>\n",
              "      <td>6.000000</td>\n",
              "      <td>4.000000</td>\n",
              "      <td>40.000000</td>\n",
              "      <td>18.000000</td>\n",
              "      <td>15.000000</td>\n",
              "      <td>17.000000</td>\n",
              "    </tr>\n",
              "  </tbody>\n",
              "</table>\n",
              "</div>"
            ],
            "text/plain": [
              "               Age    DailyRate  ...  YearsSinceLastPromotion  YearsWithCurrManager\n",
              "count  1470.000000  1470.000000  ...              1470.000000           1470.000000\n",
              "mean     36.923810   802.485714  ...                 2.187755              4.123129\n",
              "std       9.135373   403.509100  ...                 3.222430              3.568136\n",
              "min      18.000000   102.000000  ...                 0.000000              0.000000\n",
              "25%      30.000000   465.000000  ...                 0.000000              2.000000\n",
              "50%      36.000000   802.000000  ...                 1.000000              3.000000\n",
              "75%      43.000000  1157.000000  ...                 3.000000              7.000000\n",
              "max      60.000000  1499.000000  ...                15.000000             17.000000\n",
              "\n",
              "[8 rows x 26 columns]"
            ]
          },
          "metadata": {
            "tags": []
          },
          "execution_count": 8
        }
      ]
    },
    {
      "cell_type": "code",
      "metadata": {
        "colab": {
          "base_uri": "https://localhost:8080/"
        },
        "id": "--IL9uAw4KbM",
        "outputId": "09d9cde5-6b8c-42a6-c219-64bdabdb019d"
      },
      "source": [
        "#get a count of the number of employees that stayed and left the company\n",
        "df['Attrition'].value_counts()"
      ],
      "execution_count": 9,
      "outputs": [
        {
          "output_type": "execute_result",
          "data": {
            "text/plain": [
              "No     1233\n",
              "Yes     237\n",
              "Name: Attrition, dtype: int64"
            ]
          },
          "metadata": {
            "tags": []
          },
          "execution_count": 9
        }
      ]
    },
    {
      "cell_type": "code",
      "metadata": {
        "colab": {
          "base_uri": "https://localhost:8080/",
          "height": 354
        },
        "id": "vzmFdokH4KbW",
        "outputId": "18500323-5e9b-4ae3-8f33-f32f9c513d67"
      },
      "source": [
        "#Visualise the number of employees that stayed and left the company.\n",
        "sns.countplot(df['Attrition'])"
      ],
      "execution_count": 10,
      "outputs": [
        {
          "output_type": "stream",
          "text": [
            "/usr/local/lib/python3.7/dist-packages/seaborn/_decorators.py:43: FutureWarning: Pass the following variable as a keyword arg: x. From version 0.12, the only valid positional argument will be `data`, and passing other arguments without an explicit keyword will result in an error or misinterpretation.\n",
            "  FutureWarning\n"
          ],
          "name": "stderr"
        },
        {
          "output_type": "execute_result",
          "data": {
            "text/plain": [
              "<matplotlib.axes._subplots.AxesSubplot at 0x7fc67053d0d0>"
            ]
          },
          "metadata": {
            "tags": []
          },
          "execution_count": 10
        },
        {
          "output_type": "display_data",
          "data": {
            "image/png": "[encoded data removed]",
            "text/plain": [
              "<Figure size 432x288 with 1 Axes>"
            ]
          },
          "metadata": {
            "tags": [],
            "needs_background": "light"
          }
        }
      ]
    },
    {
      "cell_type": "code",
      "metadata": {
        "colab": {
          "base_uri": "https://localhost:8080/"
        },
        "id": "FmshnKGp4Kbi",
        "outputId": "f08b3b6c-5bda-4df8-ee12-6a08dfc3a417"
      },
      "source": [
        "#Percentage if we just guessed 'No' for Attrition#\n",
        "(1233 -237)/1233"
      ],
      "execution_count": 11,
      "outputs": [
        {
          "output_type": "execute_result",
          "data": {
            "text/plain": [
              "0.8077858880778589"
            ]
          },
          "metadata": {
            "tags": []
          },
          "execution_count": 11
        }
      ]
    },
    {
      "cell_type": "code",
      "metadata": {
        "colab": {
          "base_uri": "https://localhost:8080/",
          "height": 297
        },
        "id": "11x4filG4Kbq",
        "outputId": "c8a6ae30-d7df-4106-cfee-2e5e6378d67d"
      },
      "source": [
        "#Show employees that stayed and left based on their ages\n",
        "import matplotlib.pyplot as plt\n",
        "plt.subplots(figsize=(12,4))\n",
        "sns.countplot(x= 'Age', hue='Attrition', data=df, palette= 'colorblind')"
      ],
      "execution_count": 12,
      "outputs": [
        {
          "output_type": "execute_result",
          "data": {
            "text/plain": [
              "<matplotlib.axes._subplots.AxesSubplot at 0x7fc67050ff10>"
            ]
          },
          "metadata": {
            "tags": []
          },
          "execution_count": 12
        },
        {
          "output_type": "display_data",
          "data": {
            "image/png": "[encoded data removed]",
            "text/plain": [
              "<Figure size 864x288 with 1 Axes>"
            ]
          },
          "metadata": {
            "tags": [],
            "needs_background": "light"
          }
        }
      ]
    },
    {
      "cell_type": "code",
      "metadata": {
        "colab": {
          "base_uri": "https://localhost:8080/"
        },
        "id": "sEmJmGAp4Kbv",
        "outputId": "bf634c73-201d-48fb-f32a-6c78a3bc5415"
      },
      "source": [
        "#Print all the data types and their unique values\n",
        "for column in df.columns:\n",
        "    if df[column].dtype == object:\n",
        "        print(str(column) + ' : ' + str(df[column].unique()))\n",
        "        print(df[column].value_counts())\n",
        "        print('___________________________________________________________')"
      ],
      "execution_count": 13,
      "outputs": [
        {
          "output_type": "stream",
          "text": [
            "Attrition : ['Yes' 'No']\n",
            "No     1233\n",
            "Yes     237\n",
            "Name: Attrition, dtype: int64\n",
            "___________________________________________________________\n",
            "BusinessTravel : ['Travel_Rarely' 'Travel_Frequently' 'Non-Travel']\n",
            "Travel_Rarely        1043\n",
            "Travel_Frequently     277\n",
            "Non-Travel            150\n",
            "Name: BusinessTravel, dtype: int64\n",
            "___________________________________________________________\n",
            "Department : ['Sales' 'Research & Development' 'Human Resources']\n",
            "Research & Development    961\n",
            "Sales                     446\n",
            "Human Resources            63\n",
            "Name: Department, dtype: int64\n",
            "___________________________________________________________\n",
            "EducationField : ['Life Sciences' 'Other' 'Medical' 'Marketing' 'Technical Degree'\n",
            " 'Human Resources']\n",
            "Life Sciences       606\n",
            "Medical             464\n",
            "Marketing           159\n",
            "Technical Degree    132\n",
            "Other                82\n",
            "Human Resources      27\n",
            "Name: EducationField, dtype: int64\n",
            "___________________________________________________________\n",
            "Gender : ['Female' 'Male']\n",
            "Male      882\n",
            "Female    588\n",
            "Name: Gender, dtype: int64\n",
            "___________________________________________________________\n",
            "JobRole : ['Sales Executive' 'Research Scientist' 'Laboratory Technician'\n",
            " 'Manufacturing Director' 'Healthcare Representative' 'Manager'\n",
            " 'Sales Representative' 'Research Director' 'Human Resources']\n",
            "Sales Executive              326\n",
            "Research Scientist           292\n",
            "Laboratory Technician        259\n",
            "Manufacturing Director       145\n",
            "Healthcare Representative    131\n",
            "Manager                      102\n",
            "Sales Representative          83\n",
            "Research Director             80\n",
            "Human Resources               52\n",
            "Name: JobRole, dtype: int64\n",
            "___________________________________________________________\n",
            "MaritalStatus : ['Single' 'Married' 'Divorced']\n",
            "Married     673\n",
            "Single      470\n",
            "Divorced    327\n",
            "Name: MaritalStatus, dtype: int64\n",
            "___________________________________________________________\n",
            "Over18 : ['Y']\n",
            "Y    1470\n",
            "Name: Over18, dtype: int64\n",
            "___________________________________________________________\n",
            "OverTime : ['Yes' 'No']\n",
            "No     1054\n",
            "Yes     416\n",
            "Name: OverTime, dtype: int64\n",
            "___________________________________________________________\n"
          ],
          "name": "stdout"
        }
      ]
    },
    {
      "cell_type": "code",
      "metadata": {
        "id": "Z21CA7-Y4Kby"
      },
      "source": [
        "#Remove unuseful columns\n",
        "df.drop(['Over18', 'EmployeeNumber', 'StandardHours', 'EmployeeCount'], axis =1, inplace=True)"
      ],
      "execution_count": 14,
      "outputs": []
    },
    {
      "cell_type": "code",
      "metadata": {
        "colab": {
          "base_uri": "https://localhost:8080/",
          "height": 791
        },
        "id": "b-Ues3Xu4Kb0",
        "outputId": "58258184-9c50-4882-fb74-a1e9f19ba185"
      },
      "source": [
        "df.corr()"
      ],
      "execution_count": 15,
      "outputs": [
        {
          "output_type": "execute_result",
          "data": {
            "text/html": [
              "<div>\n",
              "<style scoped>\n",
              "    .dataframe tbody tr th:only-of-type {\n",
              "        vertical-align: middle;\n",
              "    }\n",
              "\n",
              "    .dataframe tbody tr th {\n",
              "        vertical-align: top;\n",
              "    }\n",
              "\n",
              "    .dataframe thead th {\n",
              "        text-align: right;\n",
              "    }\n",
              "</style>\n",
              "<table border=\"1\" class=\"dataframe\">\n",
              "  <thead>\n",
              "    <tr style=\"text-align: right;\">\n",
              "      <th></th>\n",
              "      <th>Age</th>\n",
              "      <th>DailyRate</th>\n",
              "      <th>DistanceFromHome</th>\n",
              "      <th>Education</th>\n",
              "      <th>EnvironmentSatisfaction</th>\n",
              "      <th>HourlyRate</th>\n",
              "      <th>JobInvolvement</th>\n",
              "      <th>JobLevel</th>\n",
              "      <th>JobSatisfaction</th>\n",
              "      <th>MonthlyIncome</th>\n",
              "      <th>MonthlyRate</th>\n",
              "      <th>NumCompaniesWorked</th>\n",
              "      <th>PercentSalaryHike</th>\n",
              "      <th>PerformanceRating</th>\n",
              "      <th>RelationshipSatisfaction</th>\n",
              "      <th>StockOptionLevel</th>\n",
              "      <th>TotalWorkingYears</th>\n",
              "      <th>TrainingTimesLastYear</th>\n",
              "      <th>WorkLifeBalance</th>\n",
              "      <th>YearsAtCompany</th>\n",
              "      <th>YearsInCurrentRole</th>\n",
              "      <th>YearsSinceLastPromotion</th>\n",
              "      <th>YearsWithCurrManager</th>\n",
              "    </tr>\n",
              "  </thead>\n",
              "  <tbody>\n",
              "    <tr>\n",
              "      <th>Age</th>\n",
              "      <td>1.000000</td>\n",
              "      <td>0.010661</td>\n",
              "      <td>-0.001686</td>\n",
              "      <td>0.208034</td>\n",
              "      <td>0.010146</td>\n",
              "      <td>0.024287</td>\n",
              "      <td>0.029820</td>\n",
              "      <td>0.509604</td>\n",
              "      <td>-0.004892</td>\n",
              "      <td>0.497855</td>\n",
              "      <td>0.028051</td>\n",
              "      <td>0.299635</td>\n",
              "      <td>0.003634</td>\n",
              "      <td>0.001904</td>\n",
              "      <td>0.053535</td>\n",
              "      <td>0.037510</td>\n",
              "      <td>0.680381</td>\n",
              "      <td>-0.019621</td>\n",
              "      <td>-0.021490</td>\n",
              "      <td>0.311309</td>\n",
              "      <td>0.212901</td>\n",
              "      <td>0.216513</td>\n",
              "      <td>0.202089</td>\n",
              "    </tr>\n",
              "    <tr>\n",
              "      <th>DailyRate</th>\n",
              "      <td>0.010661</td>\n",
              "      <td>1.000000</td>\n",
              "      <td>-0.004985</td>\n",
              "      <td>-0.016806</td>\n",
              "      <td>0.018355</td>\n",
              "      <td>0.023381</td>\n",
              "      <td>0.046135</td>\n",
              "      <td>0.002966</td>\n",
              "      <td>0.030571</td>\n",
              "      <td>0.007707</td>\n",
              "      <td>-0.032182</td>\n",
              "      <td>0.038153</td>\n",
              "      <td>0.022704</td>\n",
              "      <td>0.000473</td>\n",
              "      <td>0.007846</td>\n",
              "      <td>0.042143</td>\n",
              "      <td>0.014515</td>\n",
              "      <td>0.002453</td>\n",
              "      <td>-0.037848</td>\n",
              "      <td>-0.034055</td>\n",
              "      <td>0.009932</td>\n",
              "      <td>-0.033229</td>\n",
              "      <td>-0.026363</td>\n",
              "    </tr>\n",
              "    <tr>\n",
              "      <th>DistanceFromHome</th>\n",
              "      <td>-0.001686</td>\n",
              "      <td>-0.004985</td>\n",
              "      <td>1.000000</td>\n",
              "      <td>0.021042</td>\n",
              "      <td>-0.016075</td>\n",
              "      <td>0.031131</td>\n",
              "      <td>0.008783</td>\n",
              "      <td>0.005303</td>\n",
              "      <td>-0.003669</td>\n",
              "      <td>-0.017014</td>\n",
              "      <td>0.027473</td>\n",
              "      <td>-0.029251</td>\n",
              "      <td>0.040235</td>\n",
              "      <td>0.027110</td>\n",
              "      <td>0.006557</td>\n",
              "      <td>0.044872</td>\n",
              "      <td>0.004628</td>\n",
              "      <td>-0.036942</td>\n",
              "      <td>-0.026556</td>\n",
              "      <td>0.009508</td>\n",
              "      <td>0.018845</td>\n",
              "      <td>0.010029</td>\n",
              "      <td>0.014406</td>\n",
              "    </tr>\n",
              "    <tr>\n",
              "      <th>Education</th>\n",
              "      <td>0.208034</td>\n",
              "      <td>-0.016806</td>\n",
              "      <td>0.021042</td>\n",
              "      <td>1.000000</td>\n",
              "      <td>-0.027128</td>\n",
              "      <td>0.016775</td>\n",
              "      <td>0.042438</td>\n",
              "      <td>0.101589</td>\n",
              "      <td>-0.011296</td>\n",
              "      <td>0.094961</td>\n",
              "      <td>-0.026084</td>\n",
              "      <td>0.126317</td>\n",
              "      <td>-0.011111</td>\n",
              "      <td>-0.024539</td>\n",
              "      <td>-0.009118</td>\n",
              "      <td>0.018422</td>\n",
              "      <td>0.148280</td>\n",
              "      <td>-0.025100</td>\n",
              "      <td>0.009819</td>\n",
              "      <td>0.069114</td>\n",
              "      <td>0.060236</td>\n",
              "      <td>0.054254</td>\n",
              "      <td>0.069065</td>\n",
              "    </tr>\n",
              "    <tr>\n",
              "      <th>EnvironmentSatisfaction</th>\n",
              "      <td>0.010146</td>\n",
              "      <td>0.018355</td>\n",
              "      <td>-0.016075</td>\n",
              "      <td>-0.027128</td>\n",
              "      <td>1.000000</td>\n",
              "      <td>-0.049857</td>\n",
              "      <td>-0.008278</td>\n",
              "      <td>0.001212</td>\n",
              "      <td>-0.006784</td>\n",
              "      <td>-0.006259</td>\n",
              "      <td>0.037600</td>\n",
              "      <td>0.012594</td>\n",
              "      <td>-0.031701</td>\n",
              "      <td>-0.029548</td>\n",
              "      <td>0.007665</td>\n",
              "      <td>0.003432</td>\n",
              "      <td>-0.002693</td>\n",
              "      <td>-0.019359</td>\n",
              "      <td>0.027627</td>\n",
              "      <td>0.001458</td>\n",
              "      <td>0.018007</td>\n",
              "      <td>0.016194</td>\n",
              "      <td>-0.004999</td>\n",
              "    </tr>\n",
              "    <tr>\n",
              "      <th>HourlyRate</th>\n",
              "      <td>0.024287</td>\n",
              "      <td>0.023381</td>\n",
              "      <td>0.031131</td>\n",
              "      <td>0.016775</td>\n",
              "      <td>-0.049857</td>\n",
              "      <td>1.000000</td>\n",
              "      <td>0.042861</td>\n",
              "      <td>-0.027853</td>\n",
              "      <td>-0.071335</td>\n",
              "      <td>-0.015794</td>\n",
              "      <td>-0.015297</td>\n",
              "      <td>0.022157</td>\n",
              "      <td>-0.009062</td>\n",
              "      <td>-0.002172</td>\n",
              "      <td>0.001330</td>\n",
              "      <td>0.050263</td>\n",
              "      <td>-0.002334</td>\n",
              "      <td>-0.008548</td>\n",
              "      <td>-0.004607</td>\n",
              "      <td>-0.019582</td>\n",
              "      <td>-0.024106</td>\n",
              "      <td>-0.026716</td>\n",
              "      <td>-0.020123</td>\n",
              "    </tr>\n",
              "    <tr>\n",
              "      <th>JobInvolvement</th>\n",
              "      <td>0.029820</td>\n",
              "      <td>0.046135</td>\n",
              "      <td>0.008783</td>\n",
              "      <td>0.042438</td>\n",
              "      <td>-0.008278</td>\n",
              "      <td>0.042861</td>\n",
              "      <td>1.000000</td>\n",
              "      <td>-0.012630</td>\n",
              "      <td>-0.021476</td>\n",
              "      <td>-0.015271</td>\n",
              "      <td>-0.016322</td>\n",
              "      <td>0.015012</td>\n",
              "      <td>-0.017205</td>\n",
              "      <td>-0.029071</td>\n",
              "      <td>0.034297</td>\n",
              "      <td>0.021523</td>\n",
              "      <td>-0.005533</td>\n",
              "      <td>-0.015338</td>\n",
              "      <td>-0.014617</td>\n",
              "      <td>-0.021355</td>\n",
              "      <td>0.008717</td>\n",
              "      <td>-0.024184</td>\n",
              "      <td>0.025976</td>\n",
              "    </tr>\n",
              "    <tr>\n",
              "      <th>JobLevel</th>\n",
              "      <td>0.509604</td>\n",
              "      <td>0.002966</td>\n",
              "      <td>0.005303</td>\n",
              "      <td>0.101589</td>\n",
              "      <td>0.001212</td>\n",
              "      <td>-0.027853</td>\n",
              "      <td>-0.012630</td>\n",
              "      <td>1.000000</td>\n",
              "      <td>-0.001944</td>\n",
              "      <td>0.950300</td>\n",
              "      <td>0.039563</td>\n",
              "      <td>0.142501</td>\n",
              "      <td>-0.034730</td>\n",
              "      <td>-0.021222</td>\n",
              "      <td>0.021642</td>\n",
              "      <td>0.013984</td>\n",
              "      <td>0.782208</td>\n",
              "      <td>-0.018191</td>\n",
              "      <td>0.037818</td>\n",
              "      <td>0.534739</td>\n",
              "      <td>0.389447</td>\n",
              "      <td>0.353885</td>\n",
              "      <td>0.375281</td>\n",
              "    </tr>\n",
              "    <tr>\n",
              "      <th>JobSatisfaction</th>\n",
              "      <td>-0.004892</td>\n",
              "      <td>0.030571</td>\n",
              "      <td>-0.003669</td>\n",
              "      <td>-0.011296</td>\n",
              "      <td>-0.006784</td>\n",
              "      <td>-0.071335</td>\n",
              "      <td>-0.021476</td>\n",
              "      <td>-0.001944</td>\n",
              "      <td>1.000000</td>\n",
              "      <td>-0.007157</td>\n",
              "      <td>0.000644</td>\n",
              "      <td>-0.055699</td>\n",
              "      <td>0.020002</td>\n",
              "      <td>0.002297</td>\n",
              "      <td>-0.012454</td>\n",
              "      <td>0.010690</td>\n",
              "      <td>-0.020185</td>\n",
              "      <td>-0.005779</td>\n",
              "      <td>-0.019459</td>\n",
              "      <td>-0.003803</td>\n",
              "      <td>-0.002305</td>\n",
              "      <td>-0.018214</td>\n",
              "      <td>-0.027656</td>\n",
              "    </tr>\n",
              "    <tr>\n",
              "      <th>MonthlyIncome</th>\n",
              "      <td>0.497855</td>\n",
              "      <td>0.007707</td>\n",
              "      <td>-0.017014</td>\n",
              "      <td>0.094961</td>\n",
              "      <td>-0.006259</td>\n",
              "      <td>-0.015794</td>\n",
              "      <td>-0.015271</td>\n",
              "      <td>0.950300</td>\n",
              "      <td>-0.007157</td>\n",
              "      <td>1.000000</td>\n",
              "      <td>0.034814</td>\n",
              "      <td>0.149515</td>\n",
              "      <td>-0.027269</td>\n",
              "      <td>-0.017120</td>\n",
              "      <td>0.025873</td>\n",
              "      <td>0.005408</td>\n",
              "      <td>0.772893</td>\n",
              "      <td>-0.021736</td>\n",
              "      <td>0.030683</td>\n",
              "      <td>0.514285</td>\n",
              "      <td>0.363818</td>\n",
              "      <td>0.344978</td>\n",
              "      <td>0.344079</td>\n",
              "    </tr>\n",
              "    <tr>\n",
              "      <th>MonthlyRate</th>\n",
              "      <td>0.028051</td>\n",
              "      <td>-0.032182</td>\n",
              "      <td>0.027473</td>\n",
              "      <td>-0.026084</td>\n",
              "      <td>0.037600</td>\n",
              "      <td>-0.015297</td>\n",
              "      <td>-0.016322</td>\n",
              "      <td>0.039563</td>\n",
              "      <td>0.000644</td>\n",
              "      <td>0.034814</td>\n",
              "      <td>1.000000</td>\n",
              "      <td>0.017521</td>\n",
              "      <td>-0.006429</td>\n",
              "      <td>-0.009811</td>\n",
              "      <td>-0.004085</td>\n",
              "      <td>-0.034323</td>\n",
              "      <td>0.026442</td>\n",
              "      <td>0.001467</td>\n",
              "      <td>0.007963</td>\n",
              "      <td>-0.023655</td>\n",
              "      <td>-0.012815</td>\n",
              "      <td>0.001567</td>\n",
              "      <td>-0.036746</td>\n",
              "    </tr>\n",
              "    <tr>\n",
              "      <th>NumCompaniesWorked</th>\n",
              "      <td>0.299635</td>\n",
              "      <td>0.038153</td>\n",
              "      <td>-0.029251</td>\n",
              "      <td>0.126317</td>\n",
              "      <td>0.012594</td>\n",
              "      <td>0.022157</td>\n",
              "      <td>0.015012</td>\n",
              "      <td>0.142501</td>\n",
              "      <td>-0.055699</td>\n",
              "      <td>0.149515</td>\n",
              "      <td>0.017521</td>\n",
              "      <td>1.000000</td>\n",
              "      <td>-0.010238</td>\n",
              "      <td>-0.014095</td>\n",
              "      <td>0.052733</td>\n",
              "      <td>0.030075</td>\n",
              "      <td>0.237639</td>\n",
              "      <td>-0.066054</td>\n",
              "      <td>-0.008366</td>\n",
              "      <td>-0.118421</td>\n",
              "      <td>-0.090754</td>\n",
              "      <td>-0.036814</td>\n",
              "      <td>-0.110319</td>\n",
              "    </tr>\n",
              "    <tr>\n",
              "      <th>PercentSalaryHike</th>\n",
              "      <td>0.003634</td>\n",
              "      <td>0.022704</td>\n",
              "      <td>0.040235</td>\n",
              "      <td>-0.011111</td>\n",
              "      <td>-0.031701</td>\n",
              "      <td>-0.009062</td>\n",
              "      <td>-0.017205</td>\n",
              "      <td>-0.034730</td>\n",
              "      <td>0.020002</td>\n",
              "      <td>-0.027269</td>\n",
              "      <td>-0.006429</td>\n",
              "      <td>-0.010238</td>\n",
              "      <td>1.000000</td>\n",
              "      <td>0.773550</td>\n",
              "      <td>-0.040490</td>\n",
              "      <td>0.007528</td>\n",
              "      <td>-0.020608</td>\n",
              "      <td>-0.005221</td>\n",
              "      <td>-0.003280</td>\n",
              "      <td>-0.035991</td>\n",
              "      <td>-0.001520</td>\n",
              "      <td>-0.022154</td>\n",
              "      <td>-0.011985</td>\n",
              "    </tr>\n",
              "    <tr>\n",
              "      <th>PerformanceRating</th>\n",
              "      <td>0.001904</td>\n",
              "      <td>0.000473</td>\n",
              "      <td>0.027110</td>\n",
              "      <td>-0.024539</td>\n",
              "      <td>-0.029548</td>\n",
              "      <td>-0.002172</td>\n",
              "      <td>-0.029071</td>\n",
              "      <td>-0.021222</td>\n",
              "      <td>0.002297</td>\n",
              "      <td>-0.017120</td>\n",
              "      <td>-0.009811</td>\n",
              "      <td>-0.014095</td>\n",
              "      <td>0.773550</td>\n",
              "      <td>1.000000</td>\n",
              "      <td>-0.031351</td>\n",
              "      <td>0.003506</td>\n",
              "      <td>0.006744</td>\n",
              "      <td>-0.015579</td>\n",
              "      <td>0.002572</td>\n",
              "      <td>0.003435</td>\n",
              "      <td>0.034986</td>\n",
              "      <td>0.017896</td>\n",
              "      <td>0.022827</td>\n",
              "    </tr>\n",
              "    <tr>\n",
              "      <th>RelationshipSatisfaction</th>\n",
              "      <td>0.053535</td>\n",
              "      <td>0.007846</td>\n",
              "      <td>0.006557</td>\n",
              "      <td>-0.009118</td>\n",
              "      <td>0.007665</td>\n",
              "      <td>0.001330</td>\n",
              "      <td>0.034297</td>\n",
              "      <td>0.021642</td>\n",
              "      <td>-0.012454</td>\n",
              "      <td>0.025873</td>\n",
              "      <td>-0.004085</td>\n",
              "      <td>0.052733</td>\n",
              "      <td>-0.040490</td>\n",
              "      <td>-0.031351</td>\n",
              "      <td>1.000000</td>\n",
              "      <td>-0.045952</td>\n",
              "      <td>0.024054</td>\n",
              "      <td>0.002497</td>\n",
              "      <td>0.019604</td>\n",
              "      <td>0.019367</td>\n",
              "      <td>-0.015123</td>\n",
              "      <td>0.033493</td>\n",
              "      <td>-0.000867</td>\n",
              "    </tr>\n",
              "    <tr>\n",
              "      <th>StockOptionLevel</th>\n",
              "      <td>0.037510</td>\n",
              "      <td>0.042143</td>\n",
              "      <td>0.044872</td>\n",
              "      <td>0.018422</td>\n",
              "      <td>0.003432</td>\n",
              "      <td>0.050263</td>\n",
              "      <td>0.021523</td>\n",
              "      <td>0.013984</td>\n",
              "      <td>0.010690</td>\n",
              "      <td>0.005408</td>\n",
              "      <td>-0.034323</td>\n",
              "      <td>0.030075</td>\n",
              "      <td>0.007528</td>\n",
              "      <td>0.003506</td>\n",
              "      <td>-0.045952</td>\n",
              "      <td>1.000000</td>\n",
              "      <td>0.010136</td>\n",
              "      <td>0.011274</td>\n",
              "      <td>0.004129</td>\n",
              "      <td>0.015058</td>\n",
              "      <td>0.050818</td>\n",
              "      <td>0.014352</td>\n",
              "      <td>0.024698</td>\n",
              "    </tr>\n",
              "    <tr>\n",
              "      <th>TotalWorkingYears</th>\n",
              "      <td>0.680381</td>\n",
              "      <td>0.014515</td>\n",
              "      <td>0.004628</td>\n",
              "      <td>0.148280</td>\n",
              "      <td>-0.002693</td>\n",
              "      <td>-0.002334</td>\n",
              "      <td>-0.005533</td>\n",
              "      <td>0.782208</td>\n",
              "      <td>-0.020185</td>\n",
              "      <td>0.772893</td>\n",
              "      <td>0.026442</td>\n",
              "      <td>0.237639</td>\n",
              "      <td>-0.020608</td>\n",
              "      <td>0.006744</td>\n",
              "      <td>0.024054</td>\n",
              "      <td>0.010136</td>\n",
              "      <td>1.000000</td>\n",
              "      <td>-0.035662</td>\n",
              "      <td>0.001008</td>\n",
              "      <td>0.628133</td>\n",
              "      <td>0.460365</td>\n",
              "      <td>0.404858</td>\n",
              "      <td>0.459188</td>\n",
              "    </tr>\n",
              "    <tr>\n",
              "      <th>TrainingTimesLastYear</th>\n",
              "      <td>-0.019621</td>\n",
              "      <td>0.002453</td>\n",
              "      <td>-0.036942</td>\n",
              "      <td>-0.025100</td>\n",
              "      <td>-0.019359</td>\n",
              "      <td>-0.008548</td>\n",
              "      <td>-0.015338</td>\n",
              "      <td>-0.018191</td>\n",
              "      <td>-0.005779</td>\n",
              "      <td>-0.021736</td>\n",
              "      <td>0.001467</td>\n",
              "      <td>-0.066054</td>\n",
              "      <td>-0.005221</td>\n",
              "      <td>-0.015579</td>\n",
              "      <td>0.002497</td>\n",
              "      <td>0.011274</td>\n",
              "      <td>-0.035662</td>\n",
              "      <td>1.000000</td>\n",
              "      <td>0.028072</td>\n",
              "      <td>0.003569</td>\n",
              "      <td>-0.005738</td>\n",
              "      <td>-0.002067</td>\n",
              "      <td>-0.004096</td>\n",
              "    </tr>\n",
              "    <tr>\n",
              "      <th>WorkLifeBalance</th>\n",
              "      <td>-0.021490</td>\n",
              "      <td>-0.037848</td>\n",
              "      <td>-0.026556</td>\n",
              "      <td>0.009819</td>\n",
              "      <td>0.027627</td>\n",
              "      <td>-0.004607</td>\n",
              "      <td>-0.014617</td>\n",
              "      <td>0.037818</td>\n",
              "      <td>-0.019459</td>\n",
              "      <td>0.030683</td>\n",
              "      <td>0.007963</td>\n",
              "      <td>-0.008366</td>\n",
              "      <td>-0.003280</td>\n",
              "      <td>0.002572</td>\n",
              "      <td>0.019604</td>\n",
              "      <td>0.004129</td>\n",
              "      <td>0.001008</td>\n",
              "      <td>0.028072</td>\n",
              "      <td>1.000000</td>\n",
              "      <td>0.012089</td>\n",
              "      <td>0.049856</td>\n",
              "      <td>0.008941</td>\n",
              "      <td>0.002759</td>\n",
              "    </tr>\n",
              "    <tr>\n",
              "      <th>YearsAtCompany</th>\n",
              "      <td>0.311309</td>\n",
              "      <td>-0.034055</td>\n",
              "      <td>0.009508</td>\n",
              "      <td>0.069114</td>\n",
              "      <td>0.001458</td>\n",
              "      <td>-0.019582</td>\n",
              "      <td>-0.021355</td>\n",
              "      <td>0.534739</td>\n",
              "      <td>-0.003803</td>\n",
              "      <td>0.514285</td>\n",
              "      <td>-0.023655</td>\n",
              "      <td>-0.118421</td>\n",
              "      <td>-0.035991</td>\n",
              "      <td>0.003435</td>\n",
              "      <td>0.019367</td>\n",
              "      <td>0.015058</td>\n",
              "      <td>0.628133</td>\n",
              "      <td>0.003569</td>\n",
              "      <td>0.012089</td>\n",
              "      <td>1.000000</td>\n",
              "      <td>0.758754</td>\n",
              "      <td>0.618409</td>\n",
              "      <td>0.769212</td>\n",
              "    </tr>\n",
              "    <tr>\n",
              "      <th>YearsInCurrentRole</th>\n",
              "      <td>0.212901</td>\n",
              "      <td>0.009932</td>\n",
              "      <td>0.018845</td>\n",
              "      <td>0.060236</td>\n",
              "      <td>0.018007</td>\n",
              "      <td>-0.024106</td>\n",
              "      <td>0.008717</td>\n",
              "      <td>0.389447</td>\n",
              "      <td>-0.002305</td>\n",
              "      <td>0.363818</td>\n",
              "      <td>-0.012815</td>\n",
              "      <td>-0.090754</td>\n",
              "      <td>-0.001520</td>\n",
              "      <td>0.034986</td>\n",
              "      <td>-0.015123</td>\n",
              "      <td>0.050818</td>\n",
              "      <td>0.460365</td>\n",
              "      <td>-0.005738</td>\n",
              "      <td>0.049856</td>\n",
              "      <td>0.758754</td>\n",
              "      <td>1.000000</td>\n",
              "      <td>0.548056</td>\n",
              "      <td>0.714365</td>\n",
              "    </tr>\n",
              "    <tr>\n",
              "      <th>YearsSinceLastPromotion</th>\n",
              "      <td>0.216513</td>\n",
              "      <td>-0.033229</td>\n",
              "      <td>0.010029</td>\n",
              "      <td>0.054254</td>\n",
              "      <td>0.016194</td>\n",
              "      <td>-0.026716</td>\n",
              "      <td>-0.024184</td>\n",
              "      <td>0.353885</td>\n",
              "      <td>-0.018214</td>\n",
              "      <td>0.344978</td>\n",
              "      <td>0.001567</td>\n",
              "      <td>-0.036814</td>\n",
              "      <td>-0.022154</td>\n",
              "      <td>0.017896</td>\n",
              "      <td>0.033493</td>\n",
              "      <td>0.014352</td>\n",
              "      <td>0.404858</td>\n",
              "      <td>-0.002067</td>\n",
              "      <td>0.008941</td>\n",
              "      <td>0.618409</td>\n",
              "      <td>0.548056</td>\n",
              "      <td>1.000000</td>\n",
              "      <td>0.510224</td>\n",
              "    </tr>\n",
              "    <tr>\n",
              "      <th>YearsWithCurrManager</th>\n",
              "      <td>0.202089</td>\n",
              "      <td>-0.026363</td>\n",
              "      <td>0.014406</td>\n",
              "      <td>0.069065</td>\n",
              "      <td>-0.004999</td>\n",
              "      <td>-0.020123</td>\n",
              "      <td>0.025976</td>\n",
              "      <td>0.375281</td>\n",
              "      <td>-0.027656</td>\n",
              "      <td>0.344079</td>\n",
              "      <td>-0.036746</td>\n",
              "      <td>-0.110319</td>\n",
              "      <td>-0.011985</td>\n",
              "      <td>0.022827</td>\n",
              "      <td>-0.000867</td>\n",
              "      <td>0.024698</td>\n",
              "      <td>0.459188</td>\n",
              "      <td>-0.004096</td>\n",
              "      <td>0.002759</td>\n",
              "      <td>0.769212</td>\n",
              "      <td>0.714365</td>\n",
              "      <td>0.510224</td>\n",
              "      <td>1.000000</td>\n",
              "    </tr>\n",
              "  </tbody>\n",
              "</table>\n",
              "</div>"
            ],
            "text/plain": [
              "                               Age  ...  YearsWithCurrManager\n",
              "Age                       1.000000  ...              0.202089\n",
              "DailyRate                 0.010661  ...             -0.026363\n",
              "DistanceFromHome         -0.001686  ...              0.014406\n",
              "Education                 0.208034  ...              0.069065\n",
              "EnvironmentSatisfaction   0.010146  ...             -0.004999\n",
              "HourlyRate                0.024287  ...             -0.020123\n",
              "JobInvolvement            0.029820  ...              0.025976\n",
              "JobLevel                  0.509604  ...              0.375281\n",
              "JobSatisfaction          -0.004892  ...             -0.027656\n",
              "MonthlyIncome             0.497855  ...              0.344079\n",
              "MonthlyRate               0.028051  ...             -0.036746\n",
              "NumCompaniesWorked        0.299635  ...             -0.110319\n",
              "PercentSalaryHike         0.003634  ...             -0.011985\n",
              "PerformanceRating         0.001904  ...              0.022827\n",
              "RelationshipSatisfaction  0.053535  ...             -0.000867\n",
              "StockOptionLevel          0.037510  ...              0.024698\n",
              "TotalWorkingYears         0.680381  ...              0.459188\n",
              "TrainingTimesLastYear    -0.019621  ...             -0.004096\n",
              "WorkLifeBalance          -0.021490  ...              0.002759\n",
              "YearsAtCompany            0.311309  ...              0.769212\n",
              "YearsInCurrentRole        0.212901  ...              0.714365\n",
              "YearsSinceLastPromotion   0.216513  ...              0.510224\n",
              "YearsWithCurrManager      0.202089  ...              1.000000\n",
              "\n",
              "[23 rows x 23 columns]"
            ]
          },
          "metadata": {
            "tags": []
          },
          "execution_count": 15
        }
      ]
    },
    {
      "cell_type": "code",
      "metadata": {
        "colab": {
          "base_uri": "https://localhost:8080/",
          "height": 565
        },
        "id": "PW-_Gim-4Kb3",
        "outputId": "1383b669-39c3-4da8-a508-8b324dc89759"
      },
      "source": [
        "#Visualize the correlation\n",
        "plt.subplots(figsize=(15,7))\n",
        "sns.heatmap(df.corr(), annot=True, fmt='.0%')"
      ],
      "execution_count": 16,
      "outputs": [
        {
          "output_type": "execute_result",
          "data": {
            "text/plain": [
              "<matplotlib.axes._subplots.AxesSubplot at 0x7fc66fdf0bd0>"
            ]
          },
          "metadata": {
            "tags": []
          },
          "execution_count": 16
        },
        {
          "output_type": "display_data",
          "data": {
            "image/png": "[encoded data removed]",
            "text/plain": [
              "<Figure size 1080x504 with 2 Axes>"
            ]
          },
          "metadata": {
            "tags": [],
            "needs_background": "light"
          }
        }
      ]
    },
    {
      "cell_type": "code",
      "metadata": {
        "colab": {
          "base_uri": "https://localhost:8080/"
        },
        "id": "Ck3rVwkp4Kb8",
        "outputId": "39da467f-5d30-4536-c9de-9c87dfdead81"
      },
      "source": [
        "#Tranform the data\n",
        "#Transform non-numerical to numerical cols\n",
        "from sklearn.preprocessing import LabelEncoder\n",
        "\n",
        "for column in df.columns:\n",
        "    if df[column].dtype == np.number:\n",
        "        continue\n",
        "    df[column] = LabelEncoder().fit_transform(df[column])"
      ],
      "execution_count": 17,
      "outputs": [
        {
          "output_type": "stream",
          "text": [
            "/usr/local/lib/python3.7/dist-packages/ipykernel_launcher.py:6: DeprecationWarning: Converting `np.inexact` or `np.floating` to a dtype is deprecated. The current result is `float64` which is not strictly correct.\n",
            "  \n"
          ],
          "name": "stderr"
        }
      ]
    },
    {
      "cell_type": "code",
      "metadata": {
        "id": "CrYYxkrB4Kb-"
      },
      "source": [
        "#Create a new column\n",
        "df['Age_Years'] = df['Age']"
      ],
      "execution_count": 18,
      "outputs": []
    },
    {
      "cell_type": "code",
      "metadata": {
        "id": "yM6rrLjT4KcE"
      },
      "source": [
        "#Drop the age column\n",
        "df.drop('Age', axis=1, inplace=True)"
      ],
      "execution_count": 19,
      "outputs": []
    },
    {
      "cell_type": "code",
      "metadata": {
        "colab": {
          "base_uri": "https://localhost:8080/",
          "height": 226
        },
        "id": "o55TxXTH4KcH",
        "outputId": "5e6a4486-5102-4f42-d6b6-06b568bc397d"
      },
      "source": [
        "#Show the dataframe\n",
        "df.head()"
      ],
      "execution_count": 20,
      "outputs": [
        {
          "output_type": "execute_result",
          "data": {
            "text/html": [
              "<div>\n",
              "<style scoped>\n",
              "    .dataframe tbody tr th:only-of-type {\n",
              "        vertical-align: middle;\n",
              "    }\n",
              "\n",
              "    .dataframe tbody tr th {\n",
              "        vertical-align: top;\n",
              "    }\n",
              "\n",
              "    .dataframe thead th {\n",
              "        text-align: right;\n",
              "    }\n",
              "</style>\n",
              "<table border=\"1\" class=\"dataframe\">\n",
              "  <thead>\n",
              "    <tr style=\"text-align: right;\">\n",
              "      <th></th>\n",
              "      <th>Attrition</th>\n",
              "      <th>BusinessTravel</th>\n",
              "      <th>DailyRate</th>\n",
              "      <th>Department</th>\n",
              "      <th>DistanceFromHome</th>\n",
              "      <th>Education</th>\n",
              "      <th>EducationField</th>\n",
              "      <th>EnvironmentSatisfaction</th>\n",
              "      <th>Gender</th>\n",
              "      <th>HourlyRate</th>\n",
              "      <th>JobInvolvement</th>\n",
              "      <th>JobLevel</th>\n",
              "      <th>JobRole</th>\n",
              "      <th>JobSatisfaction</th>\n",
              "      <th>MaritalStatus</th>\n",
              "      <th>MonthlyIncome</th>\n",
              "      <th>MonthlyRate</th>\n",
              "      <th>NumCompaniesWorked</th>\n",
              "      <th>OverTime</th>\n",
              "      <th>PercentSalaryHike</th>\n",
              "      <th>PerformanceRating</th>\n",
              "      <th>RelationshipSatisfaction</th>\n",
              "      <th>StockOptionLevel</th>\n",
              "      <th>TotalWorkingYears</th>\n",
              "      <th>TrainingTimesLastYear</th>\n",
              "      <th>WorkLifeBalance</th>\n",
              "      <th>YearsAtCompany</th>\n",
              "      <th>YearsInCurrentRole</th>\n",
              "      <th>YearsSinceLastPromotion</th>\n",
              "      <th>YearsWithCurrManager</th>\n",
              "      <th>Age_Years</th>\n",
              "    </tr>\n",
              "  </thead>\n",
              "  <tbody>\n",
              "    <tr>\n",
              "      <th>0</th>\n",
              "      <td>1</td>\n",
              "      <td>2</td>\n",
              "      <td>624</td>\n",
              "      <td>2</td>\n",
              "      <td>0</td>\n",
              "      <td>1</td>\n",
              "      <td>1</td>\n",
              "      <td>1</td>\n",
              "      <td>0</td>\n",
              "      <td>64</td>\n",
              "      <td>2</td>\n",
              "      <td>1</td>\n",
              "      <td>7</td>\n",
              "      <td>3</td>\n",
              "      <td>2</td>\n",
              "      <td>809</td>\n",
              "      <td>999</td>\n",
              "      <td>8</td>\n",
              "      <td>1</td>\n",
              "      <td>0</td>\n",
              "      <td>0</td>\n",
              "      <td>0</td>\n",
              "      <td>0</td>\n",
              "      <td>8</td>\n",
              "      <td>0</td>\n",
              "      <td>0</td>\n",
              "      <td>6</td>\n",
              "      <td>4</td>\n",
              "      <td>0</td>\n",
              "      <td>5</td>\n",
              "      <td>23</td>\n",
              "    </tr>\n",
              "    <tr>\n",
              "      <th>1</th>\n",
              "      <td>0</td>\n",
              "      <td>1</td>\n",
              "      <td>113</td>\n",
              "      <td>1</td>\n",
              "      <td>7</td>\n",
              "      <td>0</td>\n",
              "      <td>1</td>\n",
              "      <td>2</td>\n",
              "      <td>1</td>\n",
              "      <td>31</td>\n",
              "      <td>1</td>\n",
              "      <td>1</td>\n",
              "      <td>6</td>\n",
              "      <td>1</td>\n",
              "      <td>1</td>\n",
              "      <td>682</td>\n",
              "      <td>1328</td>\n",
              "      <td>1</td>\n",
              "      <td>0</td>\n",
              "      <td>12</td>\n",
              "      <td>1</td>\n",
              "      <td>3</td>\n",
              "      <td>1</td>\n",
              "      <td>10</td>\n",
              "      <td>3</td>\n",
              "      <td>2</td>\n",
              "      <td>10</td>\n",
              "      <td>7</td>\n",
              "      <td>1</td>\n",
              "      <td>7</td>\n",
              "      <td>31</td>\n",
              "    </tr>\n",
              "    <tr>\n",
              "      <th>2</th>\n",
              "      <td>1</td>\n",
              "      <td>2</td>\n",
              "      <td>805</td>\n",
              "      <td>1</td>\n",
              "      <td>1</td>\n",
              "      <td>1</td>\n",
              "      <td>4</td>\n",
              "      <td>3</td>\n",
              "      <td>1</td>\n",
              "      <td>62</td>\n",
              "      <td>1</td>\n",
              "      <td>0</td>\n",
              "      <td>2</td>\n",
              "      <td>2</td>\n",
              "      <td>2</td>\n",
              "      <td>62</td>\n",
              "      <td>18</td>\n",
              "      <td>6</td>\n",
              "      <td>1</td>\n",
              "      <td>4</td>\n",
              "      <td>0</td>\n",
              "      <td>1</td>\n",
              "      <td>0</td>\n",
              "      <td>7</td>\n",
              "      <td>3</td>\n",
              "      <td>2</td>\n",
              "      <td>0</td>\n",
              "      <td>0</td>\n",
              "      <td>0</td>\n",
              "      <td>0</td>\n",
              "      <td>19</td>\n",
              "    </tr>\n",
              "    <tr>\n",
              "      <th>3</th>\n",
              "      <td>0</td>\n",
              "      <td>1</td>\n",
              "      <td>820</td>\n",
              "      <td>1</td>\n",
              "      <td>2</td>\n",
              "      <td>3</td>\n",
              "      <td>1</td>\n",
              "      <td>3</td>\n",
              "      <td>0</td>\n",
              "      <td>26</td>\n",
              "      <td>2</td>\n",
              "      <td>0</td>\n",
              "      <td>6</td>\n",
              "      <td>2</td>\n",
              "      <td>1</td>\n",
              "      <td>313</td>\n",
              "      <td>1228</td>\n",
              "      <td>1</td>\n",
              "      <td>1</td>\n",
              "      <td>0</td>\n",
              "      <td>0</td>\n",
              "      <td>2</td>\n",
              "      <td>0</td>\n",
              "      <td>8</td>\n",
              "      <td>3</td>\n",
              "      <td>2</td>\n",
              "      <td>8</td>\n",
              "      <td>7</td>\n",
              "      <td>3</td>\n",
              "      <td>0</td>\n",
              "      <td>15</td>\n",
              "    </tr>\n",
              "    <tr>\n",
              "      <th>4</th>\n",
              "      <td>0</td>\n",
              "      <td>2</td>\n",
              "      <td>312</td>\n",
              "      <td>1</td>\n",
              "      <td>1</td>\n",
              "      <td>0</td>\n",
              "      <td>3</td>\n",
              "      <td>0</td>\n",
              "      <td>1</td>\n",
              "      <td>10</td>\n",
              "      <td>2</td>\n",
              "      <td>0</td>\n",
              "      <td>2</td>\n",
              "      <td>1</td>\n",
              "      <td>1</td>\n",
              "      <td>399</td>\n",
              "      <td>846</td>\n",
              "      <td>9</td>\n",
              "      <td>0</td>\n",
              "      <td>1</td>\n",
              "      <td>0</td>\n",
              "      <td>3</td>\n",
              "      <td>1</td>\n",
              "      <td>6</td>\n",
              "      <td>3</td>\n",
              "      <td>2</td>\n",
              "      <td>2</td>\n",
              "      <td>2</td>\n",
              "      <td>2</td>\n",
              "      <td>2</td>\n",
              "      <td>9</td>\n",
              "    </tr>\n",
              "  </tbody>\n",
              "</table>\n",
              "</div>"
            ],
            "text/plain": [
              "   Attrition  BusinessTravel  ...  YearsWithCurrManager  Age_Years\n",
              "0          1               2  ...                     5         23\n",
              "1          0               1  ...                     7         31\n",
              "2          1               2  ...                     0         19\n",
              "3          0               1  ...                     0         15\n",
              "4          0               2  ...                     2          9\n",
              "\n",
              "[5 rows x 31 columns]"
            ]
          },
          "metadata": {
            "tags": []
          },
          "execution_count": 20
        }
      ]
    },
    {
      "cell_type": "code",
      "metadata": {
        "id": "p0YspYEg4KcK"
      },
      "source": [
        "#Split the data\n",
        "X = df.iloc[:, 1:df.shape[1]].values\n",
        "Y = df.iloc[:, 0].values"
      ],
      "execution_count": 21,
      "outputs": []
    },
    {
      "cell_type": "code",
      "metadata": {
        "id": "vuDbhHi_4KcM"
      },
      "source": [
        "#Split the data into 75% training and 25% testing\n",
        "from sklearn.model_selection import train_test_split\n",
        "X_train, X_test, Y_train, Y_test = train_test_split(X, Y, test_size=0.25, random_state=0)"
      ],
      "execution_count": 22,
      "outputs": []
    },
    {
      "cell_type": "code",
      "metadata": {
        "colab": {
          "base_uri": "https://localhost:8080/"
        },
        "id": "EgUDh_kd4KcO",
        "outputId": "2801407f-9b0b-42a9-f9d4-ce6bb8ae4727"
      },
      "source": [
        "#Use the Random Forest Classifier\n",
        "from sklearn.ensemble import RandomForestClassifier\n",
        "forest = RandomForestClassifier(n_estimators=10, criterion='entropy', random_state=0)\n",
        "forest.fit(X_train, Y_train)"
      ],
      "execution_count": 23,
      "outputs": [
        {
          "output_type": "execute_result",
          "data": {
            "text/plain": [
              "RandomForestClassifier(criterion='entropy', n_estimators=10, random_state=0)"
            ]
          },
          "metadata": {
            "tags": []
          },
          "execution_count": 23
        }
      ]
    },
    {
      "cell_type": "code",
      "metadata": {
        "colab": {
          "base_uri": "https://localhost:8080/"
        },
        "id": "WEYfgTjS4KcR",
        "outputId": "1483665a-951c-4680-bfad-ccd7bcdafe61"
      },
      "source": [
        "#Get the accuracy on the training dataset\n",
        "forest.score(X_train, Y_train)"
      ],
      "execution_count": 24,
      "outputs": [
        {
          "output_type": "execute_result",
          "data": {
            "text/plain": [
              "0.9791288566243194"
            ]
          },
          "metadata": {
            "tags": []
          },
          "execution_count": 24
        }
      ]
    },
    {
      "cell_type": "code",
      "metadata": {
        "colab": {
          "base_uri": "https://localhost:8080/"
        },
        "id": "6iZ5RnzZ4KcX",
        "outputId": "21907f48-d381-46bc-f1f1-ddc29a11fb9f"
      },
      "source": [
        "#Show the confusion matrix and accuracy score for the model on the test data\n",
        "from sklearn.metrics import confusion_matrix\n",
        "\n",
        "cm = confusion_matrix(Y_test, forest.predict(X_test))\n",
        "\n",
        "TN = cm[0][0]\n",
        "TP = cm[1][1]\n",
        "FN = cm[1][0]\n",
        "FP = cm[0][1]\n",
        "print(cm)\n",
        "print('Model Testing Accuracy = {}'.format((TP + TN)/(TP + TN + FP + FN)))"
      ],
      "execution_count": 25,
      "outputs": [
        {
          "output_type": "stream",
          "text": [
            "[[309   1]\n",
            " [ 49   9]]\n",
            "Model Testing Accuracy = 0.8641304347826086\n"
          ],
          "name": "stdout"
        }
      ]
    },
    {
      "cell_type": "markdown",
      "metadata": {
        "id": "uzBK9TgJ4Kcb"
      },
      "source": [
        "## Balancing the dataset "
      ]
    },
    {
      "cell_type": "code",
      "metadata": {
        "colab": {
          "base_uri": "https://localhost:8080/"
        },
        "id": "QHF1kdik4wUB",
        "outputId": "e7e73b05-ed99-478d-8163-ae5424a4df19"
      },
      "source": [
        "pip install -U imbalanced-learn"
      ],
      "execution_count": 26,
      "outputs": [
        {
          "output_type": "stream",
          "text": [
            "Requirement already up-to-date: imbalanced-learn in /usr/local/lib/python3.7/dist-packages (0.8.0)\n",
            "Requirement already satisfied, skipping upgrade: joblib>=0.11 in /usr/local/lib/python3.7/dist-packages (from imbalanced-learn) (1.0.1)\n",
            "Requirement already satisfied, skipping upgrade: scipy>=0.19.1 in /usr/local/lib/python3.7/dist-packages (from imbalanced-learn) (1.4.1)\n",
            "Requirement already satisfied, skipping upgrade: numpy>=1.13.3 in /usr/local/lib/python3.7/dist-packages (from imbalanced-learn) (1.19.5)\n",
            "Requirement already satisfied, skipping upgrade: scikit-learn>=0.24 in /usr/local/lib/python3.7/dist-packages (from imbalanced-learn) (0.24.1)\n",
            "Requirement already satisfied, skipping upgrade: threadpoolctl>=2.0.0 in /usr/local/lib/python3.7/dist-packages (from scikit-learn>=0.24->imbalanced-learn) (2.1.0)\n"
          ],
          "name": "stdout"
        }
      ]
    },
    {
      "cell_type": "code",
      "metadata": {
        "id": "Y46jsWUo4Kcc"
      },
      "source": [
        "from imblearn.over_sampling import SMOTE\n"
      ],
      "execution_count": 27,
      "outputs": []
    },
    {
      "cell_type": "code",
      "metadata": {
        "id": "WkjEhc7S4Kcf"
      },
      "source": [
        "smt = SMOTE(random_state=0)\n",
        "X_train_SMOTE, Y_train_SMOTE = smt.fit_resample(X_train, Y_train)"
      ],
      "execution_count": 30,
      "outputs": []
    },
    {
      "cell_type": "code",
      "metadata": {
        "colab": {
          "base_uri": "https://localhost:8080/"
        },
        "id": "1jI2sOgI4Kch",
        "outputId": "a61f82db-528e-4bef-8294-44f7f6467a02"
      },
      "source": [
        "#Use the Random Forest Classifier\n",
        "from sklearn.ensemble import RandomForestClassifier\n",
        "forest_bal = RandomForestClassifier(n_estimators=10, criterion='entropy', random_state=0)\n",
        "forest_bal.fit(X_train_SMOTE, Y_train_SMOTE)"
      ],
      "execution_count": 33,
      "outputs": [
        {
          "output_type": "execute_result",
          "data": {
            "text/plain": [
              "RandomForestClassifier(criterion='entropy', n_estimators=10, random_state=0)"
            ]
          },
          "metadata": {
            "tags": []
          },
          "execution_count": 33
        }
      ]
    },
    {
      "cell_type": "code",
      "metadata": {
        "colab": {
          "base_uri": "https://localhost:8080/"
        },
        "id": "HnqY1Zxa74t6",
        "outputId": "af87ad6a-ad93-454a-f27c-a57de47a1cd1"
      },
      "source": [
        "#Get the accuracy on the training dataset\n",
        "forest_bal.score(X_train, Y_train)"
      ],
      "execution_count": 35,
      "outputs": [
        {
          "output_type": "execute_result",
          "data": {
            "text/plain": [
              "0.9918330308529946"
            ]
          },
          "metadata": {
            "tags": []
          },
          "execution_count": 35
        }
      ]
    },
    {
      "cell_type": "code",
      "metadata": {
        "colab": {
          "base_uri": "https://localhost:8080/"
        },
        "id": "cy4UouSQ7-i5",
        "outputId": "cab19567-e120-4bc5-fe45-f09832063805"
      },
      "source": [
        "#Show the confusion matrix and accuracy score for the model on the test data\n",
        "from sklearn.metrics import confusion_matrix\n",
        "\n",
        "cm = confusion_matrix(Y_test, forest_bal.predict(X_test))\n",
        "\n",
        "TN = cm[0][0]\n",
        "TP = cm[1][1]\n",
        "FN = cm[1][0]\n",
        "FP = cm[0][1]\n",
        "print(cm)\n",
        "print('Model Testing Accuracy = {}'.format((TP + TN)/(TP + TN + FP + FN)))"
      ],
      "execution_count": 36,
      "outputs": [
        {
          "output_type": "stream",
          "text": [
            "[[289  21]\n",
            " [ 42  16]]\n",
            "Model Testing Accuracy = 0.8288043478260869\n"
          ],
          "name": "stdout"
        }
      ]
    },
    {
      "cell_type": "code",
      "metadata": {
        "id": "UI-UF40X8R0p"
      },
      "source": [
        ""
      ],
      "execution_count": null,
      "outputs": []
    }
  ]
}